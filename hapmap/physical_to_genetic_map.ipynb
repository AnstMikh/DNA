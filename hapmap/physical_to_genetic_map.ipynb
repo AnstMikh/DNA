{
 "cells": [
  {
   "cell_type": "code",
   "execution_count": 1,
   "metadata": {},
   "outputs": [],
   "source": [
    "%matplotlib inline\n",
    "import pandas as pd\n",
    "import matplotlib.pyplot as plt\n",
    "import scipy"
   ]
  },
  {
   "cell_type": "code",
   "execution_count": 2,
   "metadata": {},
   "outputs": [],
   "source": [
    "population_name = \"yri\""
   ]
  },
  {
   "cell_type": "code",
   "execution_count": 10,
   "metadata": {},
   "outputs": [
    {
     "name": "stdout",
     "output_type": "stream",
     "text": [
      "I am here\n",
      "I am here\n",
      "I am here\n",
      "I am here\n",
      "I am here\n",
      "I am here\n",
      "I am here\n",
      "I am here\n",
      "I am here\n",
      "I am here\n",
      "I am here\n",
      "I am here\n",
      "I am here\n",
      "I am here\n",
      "I am here\n",
      "I am here\n",
      "I am here\n",
      "I am here\n",
      "I am here\n",
      "I am here\n",
      "I am here\n",
      "I am here\n"
     ]
    }
   ],
   "source": [
    "# gen_map is hapmap for hg19 from https://github.com/joepickrell/1000-genomes-genetic-maps/find/master\n",
    "# snp is file with 3 columns of vcf: CHROM POS ID, which is in population_name directory\n",
    "for i in range(1, 23):\n",
    "    filename = \"chr\" + str(i) + \".interpolated_genetic_map\"\n",
    "    gen_map = pd.read_csv(filename, delim_whitespace=True, names=['ID','POS','GEN_POS'])\n",
    "    filename = population_name + \"/gen.\" + population_name + \".chr\" + str(i) + \".txt\"\n",
    "    snp = pd.read_csv(filename, sep='\\t', names = ['CHROM', 'POS', 'ID'])\n",
    "    map_can = snp.merge(gen_map, how='left', on=['ID', 'POS'])\n",
    "    if map_can['GEN_POS'].isnull().values.any() == True and map_can['GEN_POS'].isnull().values.all() == False:\n",
    "        c = map_can.interpolate().dropna()\n",
    "        filename = population_name + \".chr\" + str(i) +\".txt\"\n",
    "        c.to_csv(filename, header=None, index=None, sep=' ')\n",
    "    else:\n",
    "        print(\"There is nothing to evaluate, check your files\")\n",
    "        \n"
   ]
  },
  {
   "cell_type": "code",
   "execution_count": null,
   "metadata": {},
   "outputs": [],
   "source": []
  }
 ],
 "metadata": {
  "kernelspec": {
   "display_name": "Python 3",
   "language": "python",
   "name": "python3"
  },
  "language_info": {
   "codemirror_mode": {
    "name": "ipython",
    "version": 3
   },
   "file_extension": ".py",
   "mimetype": "text/x-python",
   "name": "python",
   "nbconvert_exporter": "python",
   "pygments_lexer": "ipython3",
   "version": "3.8.3"
  }
 },
 "nbformat": 4,
 "nbformat_minor": 4
}
